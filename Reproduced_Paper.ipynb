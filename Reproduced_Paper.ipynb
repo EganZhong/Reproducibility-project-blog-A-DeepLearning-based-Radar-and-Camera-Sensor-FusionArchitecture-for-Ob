{
  "nbformat": 4,
  "nbformat_minor": 0,
  "metadata": {
    "colab": {
      "name": "Reproduced Paper.ipynb",
      "provenance": []
    },
    "kernelspec": {
      "name": "python3",
      "display_name": "Python 3"
    },
    "language_info": {
      "name": "python"
    }
  },
  "cells": [
    {
      "cell_type": "markdown",
      "metadata": {
        "id": "LMJI0Ow2JOlh"
      },
      "source": [
        "# **Reproducibility Project Blog: A Deep Learning-based Radar and CameraSensor Fusion Architecture for Object Detection**"
      ]
    },
    {
      "cell_type": "markdown",
      "metadata": {
        "id": "3dkau_9YJdy7"
      },
      "source": [
        "Authors:\n",
        "\n",
        "Yigen Zhong (yg.zhong@outlook.com)\n",
        "\n",
        "Chenghao Xu (xuchenghao10@hotmail.com)"
      ]
    },
    {
      "cell_type": "markdown",
      "metadata": {
        "id": "YakrVAw9JwnG"
      },
      "source": [
        "Contributions:\n",
        "\n",
        "Yigen Zhong writes Section 1: Introduction, Section 3: The usage of github codes on nuScenes mini dataset, and the errorsolutions and the experimental results, Section 5: The cross projection method of radar data to images.\n",
        "\n",
        "Chenghao Xu writes Section 1: Introduction, Section 2: The overview of CRF-NET with prior knowledge, Section 4: Hyperparameters check."
      ]
    },
    {
      "cell_type": "markdown",
      "metadata": {
        "id": "2edMcAxiKN6I"
      },
      "source": [
        "# **Introduction**"
      ]
    },
    {
      "cell_type": "markdown",
      "metadata": {
        "id": "tiUBhgO9KUfr"
      },
      "source": [
        ""
      ]
    }
  ]
}